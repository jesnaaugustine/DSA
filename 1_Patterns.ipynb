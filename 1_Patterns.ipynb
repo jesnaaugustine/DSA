{
 "cells": [
  {
   "cell_type": "markdown",
   "metadata": {},
   "source": [
    "###\n",
    "###\n",
    "###"
   ]
  },
  {
   "cell_type": "code",
   "execution_count": null,
   "metadata": {},
   "outputs": [
    {
     "name": "stdout",
     "output_type": "stream",
     "text": [
      "* * * \n",
      "* * * \n",
      "* * * \n",
      "\n"
     ]
    }
   ],
   "source": [
    "''' \n",
    "* * * \n",
    "* * *\n",
    "* * *\n",
    "'''\n",
    "def pattern1(n):\n",
    "    out=[]\n",
    "    for i in range(n):\n",
    "        for j in range(n):\n",
    "            out.append('* ')\n",
    "        out.append('\\n')\n",
    "    return ''.join(out)\n",
    "print(pattern1(3))"
   ]
  },
  {
   "cell_type": "code",
   "execution_count": 10,
   "metadata": {},
   "outputs": [
    {
     "name": "stdout",
     "output_type": "stream",
     "text": [
      "* \n",
      "* * \n",
      "* * * \n",
      "\n"
     ]
    }
   ],
   "source": [
    "'''\n",
    "*\n",
    "* *\n",
    "* * *\n",
    "'''\n",
    "def pattern2(n):\n",
    "    out=[]\n",
    "    for i in range(1,n+1):\n",
    "        for j in range(i):\n",
    "            out.append('* ')\n",
    "        out.append('\\n')\n",
    "    return ''.join(out)\n",
    "\n",
    "print(pattern2(3))\n"
   ]
  },
  {
   "cell_type": "code",
   "execution_count": 13,
   "metadata": {},
   "outputs": [
    {
     "name": "stdout",
     "output_type": "stream",
     "text": [
      "1 \n",
      "1 2 \n",
      "1 2 3 \n",
      "1 2 3 4 \n",
      "1 2 3 4 5 \n",
      "\n"
     ]
    }
   ],
   "source": [
    "''' \n",
    "1\n",
    "12\n",
    "123\n",
    "1234\n",
    "12345\n",
    "'''\n",
    "def pattern3(n):\n",
    "    out =[]\n",
    "    for i in range(1,n+1):\n",
    "        for j in range(1,i+1):\n",
    "            out.append(str(j))\n",
    "            out.append(' ')\n",
    "        out.append('\\n')\n",
    "    return (''.join(out))\n",
    "\n",
    "print(pattern3(5))\n",
    "        "
   ]
  },
  {
   "cell_type": "code",
   "execution_count": 15,
   "metadata": {},
   "outputs": [
    {
     "name": "stdout",
     "output_type": "stream",
     "text": [
      "1 \n",
      "2 2 \n",
      "3 3 3 \n",
      "4 4 4 4 \n",
      "5 5 5 5 5 \n",
      "\n"
     ]
    }
   ],
   "source": [
    "''' \n",
    "1\n",
    "22\n",
    "333\n",
    "4444\n",
    "55555\n",
    "'''\n",
    "def pattern4(n):\n",
    "    out =[]\n",
    "    for i in range(1,n+1):\n",
    "        temp = (str(i)+' ')*i\n",
    "        out.append(temp)\n",
    "        out.append('\\n')\n",
    "    return ''.join(out)\n",
    "\n",
    "print(pattern4(5))"
   ]
  },
  {
   "cell_type": "code",
   "execution_count": 17,
   "metadata": {},
   "outputs": [
    {
     "name": "stdout",
     "output_type": "stream",
     "text": [
      "* * * * * \n",
      "* * * * \n",
      "* * * \n",
      "* * \n",
      "* \n",
      "\n"
     ]
    }
   ],
   "source": [
    "''' \n",
    "*****\n",
    "****\n",
    "***\n",
    "**\n",
    "*\n",
    "'''\n",
    "def pattern5(n):\n",
    "    out =[]\n",
    "    for i in range(n,0,-1):\n",
    "        out.append(('* ')*i)\n",
    "        out.append('\\n')\n",
    "    return ''.join(out)\n",
    "\n",
    "print(pattern5(5))"
   ]
  },
  {
   "cell_type": "code",
   "execution_count": 8,
   "metadata": {},
   "outputs": [
    {
     "name": "stdout",
     "output_type": "stream",
     "text": [
      "          \n",
      "    *    \n",
      "   ***   \n",
      "  *****  \n",
      " ******* \n",
      "\n"
     ]
    }
   ],
   "source": [
    "''' \n",
    "pass N and make N star triangle. eg: if N=3\n",
    "   *\n",
    "  ***\n",
    " *****  \n",
    "'''\n",
    "def pattern6(n):\n",
    "    out =[]\n",
    "    for i in range(n,0,-1):\n",
    "        out.append((' '*i+'*'*((n-1-i)*2+1) +' '*i))\n",
    "        out.append('\\n')\n",
    "    return ''.join(out)\n",
    "\n",
    "print(pattern6(5))"
   ]
  },
  {
   "cell_type": "code",
   "execution_count": 18,
   "metadata": {},
   "outputs": [
    {
     "name": "stdout",
     "output_type": "stream",
     "text": [
      "*********\n",
      " ******* \n",
      "  *****  \n",
      "   ***   \n",
      "    *    \n",
      "\n"
     ]
    }
   ],
   "source": [
    "''' \n",
    "pass N and make N star triangle. eg: if N=3\n",
    "   *****\n",
    "    ***\n",
    "     *  \n",
    "'''\n",
    "\n",
    "def pattern7(n):\n",
    "    out =[]\n",
    "    for i in range(n):\n",
    "        out.append(( ' '*i+'*'*((n-1-i)*2+1)+' '*i))\n",
    "        out.append('\\n')\n",
    "    return ''.join(out)\n",
    "\n",
    "print(pattern7(5))"
   ]
  },
  {
   "cell_type": "code",
   "execution_count": 38,
   "metadata": {},
   "outputs": [
    {
     "name": "stdout",
     "output_type": "stream",
     "text": [
      "   *   \n",
      "  ***  \n",
      " ***** \n",
      " ***** \n",
      "  ***  \n",
      "   *   \n"
     ]
    }
   ],
   "source": [
    "''' \n",
    "if N=3 then \n",
    "  *  \n",
    " ***\n",
    "***** \n",
    "*****  \n",
    " ***\n",
    "  * \n",
    "'''\n",
    "def pattern8(n):\n",
    "    out = [None]*n*2\n",
    "    for i in range(n,0,-1):\n",
    "        out[i-n-1]= out[n-i]=' '*i+ '*'*(2*(n-i)+1)+' '*i\n",
    "    return '\\n'.join(out)\n",
    "\n",
    "print(pattern8(3) )      "
   ]
  },
  {
   "cell_type": "code",
   "execution_count": null,
   "metadata": {},
   "outputs": [],
   "source": []
  }
 ],
 "metadata": {
  "kernelspec": {
   "display_name": ".venv",
   "language": "python",
   "name": "python3"
  },
  "language_info": {
   "codemirror_mode": {
    "name": "ipython",
    "version": 3
   },
   "file_extension": ".py",
   "mimetype": "text/x-python",
   "name": "python",
   "nbconvert_exporter": "python",
   "pygments_lexer": "ipython3",
   "version": "3.10.9"
  }
 },
 "nbformat": 4,
 "nbformat_minor": 2
}
