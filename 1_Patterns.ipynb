{
 "cells": [
  {
   "cell_type": "markdown",
   "metadata": {},
   "source": [
    "print:\n",
    "    ***\n",
    "    ***\n",
    "    ***"
   ]
  },
  {
   "cell_type": "markdown",
   "metadata": {},
   "source": [
    "###\n",
    "###\n",
    "###"
   ]
  },
  {
   "cell_type": "code",
   "execution_count": 9,
   "metadata": {},
   "outputs": [
    {
     "name": "stdout",
     "output_type": "stream",
     "text": [
      "* * * \n",
      "* * * \n",
      "* * * \n",
      "\n"
     ]
    }
   ],
   "source": [
    "def pattern1(n):\n",
    "    out=[]\n",
    "    for i in range(n):\n",
    "        for j in range(n):\n",
    "            out.append('* ')\n",
    "        out.append('\\n')\n",
    "    return ''.join(out)\n",
    "print(pattern1(3))"
   ]
  },
  {
   "cell_type": "code",
   "execution_count": 10,
   "metadata": {},
   "outputs": [
    {
     "name": "stdout",
     "output_type": "stream",
     "text": [
      "* \n",
      "* * \n",
      "* * * \n",
      "\n"
     ]
    }
   ],
   "source": [
    "'''\n",
    "*\n",
    "* *\n",
    "* * *\n",
    "'''\n",
    "def pattern2(n):\n",
    "    out=[]\n",
    "    for i in range(1,n+1):\n",
    "        for j in range(i):\n",
    "            out.append('* ')\n",
    "        out.append('\\n')\n",
    "    return ''.join(out)\n",
    "\n",
    "print(pattern2(3))\n"
   ]
  },
  {
   "cell_type": "code",
   "execution_count": null,
   "metadata": {},
   "outputs": [],
   "source": []
  }
 ],
 "metadata": {
  "kernelspec": {
   "display_name": ".venv",
   "language": "python",
   "name": "python3"
  },
  "language_info": {
   "codemirror_mode": {
    "name": "ipython",
    "version": 3
   },
   "file_extension": ".py",
   "mimetype": "text/x-python",
   "name": "python",
   "nbconvert_exporter": "python",
   "pygments_lexer": "ipython3",
   "version": "3.10.9"
  }
 },
 "nbformat": 4,
 "nbformat_minor": 2
}
